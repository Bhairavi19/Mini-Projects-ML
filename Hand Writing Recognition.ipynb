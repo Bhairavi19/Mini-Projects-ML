{
 "cells": [
  {
   "cell_type": "code",
   "execution_count": 1,
   "id": "40d90824",
   "metadata": {},
   "outputs": [],
   "source": [
    "import tensorflow as tf\n",
    "from keras.preprocessing.image import ImageDataGenerator"
   ]
  },
  {
   "cell_type": "code",
   "execution_count": 2,
   "id": "b244e6c9",
   "metadata": {},
   "outputs": [],
   "source": [
    "import matplotlib\n",
    "import matplotlib.pyplot as plt\n",
    "import numpy as np\n",
    "import pandas as pd\n",
    "import tensorflow.keras.utils as tku"
   ]
  },
  {
   "cell_type": "code",
   "execution_count": 3,
   "id": "7ef791a7",
   "metadata": {},
   "outputs": [
    {
     "data": {
      "text/plain": [
       "'2.11.0'"
      ]
     },
     "execution_count": 3,
     "metadata": {},
     "output_type": "execute_result"
    }
   ],
   "source": [
    "tf.__version__"
   ]
  },
  {
   "cell_type": "code",
   "execution_count": 4,
   "id": "6e71c7a0",
   "metadata": {},
   "outputs": [
    {
     "name": "stdout",
     "output_type": "stream",
     "text": [
      "Found 37340 images belonging to 10 classes.\n"
     ]
    }
   ],
   "source": [
    "train_datagen = ImageDataGenerator(rescale = 1./255,\n",
    "                                   shear_range = 0.2,\n",
    "                                   zoom_range = 0.2,\n",
    "                                   horizontal_flip = True)\n",
    "training_set = train_datagen.flow_from_directory('datasets/training_set',\n",
    "                                                 target_size = (28, 28),\n",
    "                                                 batch_size = 32,\n",
    "                                                 class_mode = 'categorical')"
   ]
  },
  {
   "cell_type": "code",
   "execution_count": 6,
   "id": "d7d112cb",
   "metadata": {},
   "outputs": [
    {
     "name": "stdout",
     "output_type": "stream",
     "text": [
      "Found 4660 images belonging to 10 classes.\n"
     ]
    }
   ],
   "source": [
    "train_datagen = ImageDataGenerator(rescale = 1./255,\n",
    "                                   shear_range = 0.2,\n",
    "                                   zoom_range = 0.2,\n",
    "                                   horizontal_flip = True)\n",
    "test_set = train_datagen.flow_from_directory('datasets/test_set',\n",
    "                                                 target_size = (28, 28),\n",
    "                                                 batch_size = 32,\n",
    "                                                 class_mode = 'categorical')"
   ]
  },
  {
   "cell_type": "code",
   "execution_count": 7,
   "id": "0e993fc2",
   "metadata": {},
   "outputs": [],
   "source": [
    "cnn = tf.keras.models.Sequential()"
   ]
  },
  {
   "cell_type": "code",
   "execution_count": 8,
   "id": "5e1e8b4a",
   "metadata": {},
   "outputs": [],
   "source": [
    "cnn.add(tf.keras.layers.Conv2D(filters=32, kernel_size=3, activation='relu', input_shape=[28, 28, 3]))"
   ]
  },
  {
   "cell_type": "code",
   "execution_count": 9,
   "id": "1c20360b",
   "metadata": {},
   "outputs": [],
   "source": [
    "cnn.add(tf.keras.layers.MaxPool2D(pool_size=2, strides=2))"
   ]
  },
  {
   "cell_type": "code",
   "execution_count": 10,
   "id": "00b4da19",
   "metadata": {},
   "outputs": [],
   "source": [
    "cnn.add(tf.keras.layers.Conv2D(filters=32, kernel_size=3, activation='relu'))\n",
    "cnn.add(tf.keras.layers.MaxPool2D(pool_size=2, strides=2))"
   ]
  },
  {
   "cell_type": "code",
   "execution_count": 11,
   "id": "e5a7119d",
   "metadata": {},
   "outputs": [],
   "source": [
    "cnn.add(tf.keras.layers.Flatten())"
   ]
  },
  {
   "cell_type": "code",
   "execution_count": 12,
   "id": "da78cf0b",
   "metadata": {},
   "outputs": [],
   "source": [
    "cnn.add(tf.keras.layers.Dense(units=64, activation='relu'))"
   ]
  },
  {
   "cell_type": "code",
   "execution_count": 13,
   "id": "49003627",
   "metadata": {},
   "outputs": [],
   "source": [
    "cnn.add(tf.keras.layers.Dense(units=10, activation='softmax'))"
   ]
  },
  {
   "cell_type": "code",
   "execution_count": 14,
   "id": "afe46c54",
   "metadata": {},
   "outputs": [],
   "source": [
    "cnn.compile(optimizer = 'adam', loss = 'categorical_crossentropy', metrics = ['accuracy'])"
   ]
  },
  {
   "cell_type": "code",
   "execution_count": 15,
   "id": "aac5fe8e",
   "metadata": {},
   "outputs": [
    {
     "name": "stdout",
     "output_type": "stream",
     "text": [
      "Epoch 1/20\n",
      "1167/1167 [==============================] - 78s 65ms/step - loss: 0.3466 - accuracy: 0.8896 - val_loss: 0.1936 - val_accuracy: 0.9380\n",
      "Epoch 2/20\n",
      "1167/1167 [==============================] - 55s 47ms/step - loss: 0.1353 - accuracy: 0.9590 - val_loss: 0.1396 - val_accuracy: 0.9530\n",
      "Epoch 3/20\n",
      "1167/1167 [==============================] - 64s 54ms/step - loss: 0.1030 - accuracy: 0.9684 - val_loss: 0.0797 - val_accuracy: 0.9764\n",
      "Epoch 4/20\n",
      "1167/1167 [==============================] - 52s 44ms/step - loss: 0.0826 - accuracy: 0.9733 - val_loss: 0.0727 - val_accuracy: 0.9764\n",
      "Epoch 5/20\n",
      "1167/1167 [==============================] - 50s 43ms/step - loss: 0.0737 - accuracy: 0.9769 - val_loss: 0.0850 - val_accuracy: 0.9742\n",
      "Epoch 6/20\n",
      "1167/1167 [==============================] - 51s 44ms/step - loss: 0.0649 - accuracy: 0.9792 - val_loss: 0.0725 - val_accuracy: 0.9773\n",
      "Epoch 7/20\n",
      "1167/1167 [==============================] - 50s 43ms/step - loss: 0.0600 - accuracy: 0.9811 - val_loss: 0.0669 - val_accuracy: 0.9785\n",
      "Epoch 8/20\n",
      "1167/1167 [==============================] - 50s 43ms/step - loss: 0.0542 - accuracy: 0.9832 - val_loss: 0.0619 - val_accuracy: 0.9798\n",
      "Epoch 9/20\n",
      "1167/1167 [==============================] - 49s 42ms/step - loss: 0.0525 - accuracy: 0.9829 - val_loss: 0.0486 - val_accuracy: 0.9858\n",
      "Epoch 10/20\n",
      "1167/1167 [==============================] - 49s 42ms/step - loss: 0.0451 - accuracy: 0.9855 - val_loss: 0.0634 - val_accuracy: 0.9807\n",
      "Epoch 11/20\n",
      "1167/1167 [==============================] - 50s 43ms/step - loss: 0.0449 - accuracy: 0.9854 - val_loss: 0.0560 - val_accuracy: 0.9811\n",
      "Epoch 12/20\n",
      "1167/1167 [==============================] - 50s 43ms/step - loss: 0.0413 - accuracy: 0.9863 - val_loss: 0.0691 - val_accuracy: 0.9800\n",
      "Epoch 13/20\n",
      "1167/1167 [==============================] - 51s 44ms/step - loss: 0.0382 - accuracy: 0.9880 - val_loss: 0.0489 - val_accuracy: 0.9867\n",
      "Epoch 14/20\n",
      "1167/1167 [==============================] - 48s 41ms/step - loss: 0.0382 - accuracy: 0.9879 - val_loss: 0.0585 - val_accuracy: 0.9803\n",
      "Epoch 15/20\n",
      "1167/1167 [==============================] - 49s 42ms/step - loss: 0.0392 - accuracy: 0.9875 - val_loss: 0.0577 - val_accuracy: 0.9822\n",
      "Epoch 16/20\n",
      "1167/1167 [==============================] - 49s 42ms/step - loss: 0.0336 - accuracy: 0.9895 - val_loss: 0.0569 - val_accuracy: 0.9824\n",
      "Epoch 17/20\n",
      "1167/1167 [==============================] - 50s 43ms/step - loss: 0.0351 - accuracy: 0.9885 - val_loss: 0.0412 - val_accuracy: 0.9858\n",
      "Epoch 18/20\n",
      "1167/1167 [==============================] - 50s 43ms/step - loss: 0.0334 - accuracy: 0.9890 - val_loss: 0.0504 - val_accuracy: 0.9822\n",
      "Epoch 19/20\n",
      "1167/1167 [==============================] - 50s 43ms/step - loss: 0.0307 - accuracy: 0.9900 - val_loss: 0.0624 - val_accuracy: 0.9843\n",
      "Epoch 20/20\n",
      "1167/1167 [==============================] - 51s 43ms/step - loss: 0.0287 - accuracy: 0.9907 - val_loss: 0.0500 - val_accuracy: 0.9828\n"
     ]
    }
   ],
   "source": [
    "trained_model = cnn.fit(x = training_set, validation_data = test_set, epochs = 20)"
   ]
  },
  {
   "cell_type": "code",
   "execution_count": 18,
   "id": "7b7cc598",
   "metadata": {},
   "outputs": [
    {
     "name": "stdout",
     "output_type": "stream",
     "text": [
      "1/1 [==============================] - 0s 358ms/step\n"
     ]
    }
   ],
   "source": [
    "import numpy as np\n",
    "from keras.preprocessing import image\n",
    "test_image = tf.keras.utils.load_img('datasets/single_prediction/img_52.jpg', target_size = (28, 28))\n",
    "test_image = tf.keras.utils.img_to_array(test_image)\n",
    "test_image = np.expand_dims(test_image, axis = 0)\n",
    "results = (cnn.predict(test_image))\n",
    "training_set.class_indices\n",
    "if results[0][0] == 1:\n",
    "  prediction = 'Zero'\n",
    "elif results[0][1] == 1:\n",
    "  prediction = 'One'\n",
    "elif results[0][2] == 1:\n",
    "  prediction = 'Two'\n",
    "elif results[0][3] == 1:\n",
    "  prediction = 'Three'\n",
    "elif results[0][4] == 1:\n",
    "  prediction = 'Four'\n",
    "elif results[0][5] == 1:\n",
    "  prediction = 'Five'\n",
    "elif results[0][6] == 1:\n",
    "  prediction = 'Six'\n",
    "elif results[0][7] == 1:\n",
    "  prediction = 'Seven'\n",
    "elif results[0][8] == 1:\n",
    "  prediction = 'Eight'\n",
    "else:\n",
    "  prediction = 'Nine'"
   ]
  },
  {
   "cell_type": "code",
   "execution_count": 19,
   "id": "75564047",
   "metadata": {},
   "outputs": [
    {
     "name": "stdout",
     "output_type": "stream",
     "text": [
      "[[0. 0. 0. 0. 0. 0. 0. 0. 1. 0.]]\n"
     ]
    }
   ],
   "source": [
    "print(results)"
   ]
  },
  {
   "cell_type": "code",
   "execution_count": 20,
   "id": "26a2c81b",
   "metadata": {},
   "outputs": [
    {
     "name": "stdout",
     "output_type": "stream",
     "text": [
      "Eight\n"
     ]
    }
   ],
   "source": [
    "print(prediction)"
   ]
  },
  {
   "cell_type": "code",
   "execution_count": null,
   "id": "bac48e24",
   "metadata": {},
   "outputs": [],
   "source": []
  }
 ],
 "metadata": {
  "kernelspec": {
   "display_name": "Python 3 (ipykernel)",
   "language": "python",
   "name": "python3"
  },
  "language_info": {
   "codemirror_mode": {
    "name": "ipython",
    "version": 3
   },
   "file_extension": ".py",
   "mimetype": "text/x-python",
   "name": "python",
   "nbconvert_exporter": "python",
   "pygments_lexer": "ipython3",
   "version": "3.9.13"
  }
 },
 "nbformat": 4,
 "nbformat_minor": 5
}
